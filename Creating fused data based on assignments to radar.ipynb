{
 "cells": [
  {
   "cell_type": "code",
   "execution_count": 1,
   "metadata": {},
   "outputs": [],
   "source": [
    "import pandas as pd"
   ]
  },
  {
   "cell_type": "code",
   "execution_count": 2,
   "metadata": {},
   "outputs": [
    {
     "name": "stdout",
     "output_type": "stream",
     "text": [
      "    RadarID  VideoID   type        lon        lat        tstamp\n",
      "0     212.0    306.0    car  24.922022  60.160719  1.626763e+12\n",
      "0     210.0    308.0  truck  24.921856  60.160691  1.626763e+12\n",
      "0     205.0      1.0    car  24.921968  60.160731  1.626763e+12\n",
      "0     210.0    308.0  truck  24.921857  60.160689  1.626763e+12\n",
      "0     212.0    306.0    car  24.922019  60.160724  1.626763e+12\n",
      "..      ...      ...    ...        ...        ...           ...\n",
      "0     150.0    240.0  truck  24.921669  60.160320  1.626763e+12\n",
      "0     225.0    359.0    car  24.921620  60.160346  1.626763e+12\n",
      "0     215.0    327.0    car  24.922159  60.160608  1.626763e+12\n",
      "0     230.0     20.0  truck  24.921871  60.161027  1.626763e+12\n",
      "0     229.0     25.0    car  24.921958  60.161394  1.626763e+12\n",
      "\n",
      "[19498 rows x 6 columns]\n"
     ]
    }
   ],
   "source": [
    "Radar_type = pd.read_csv('assigned_radar+video.csv')\n",
    "Radar_data = pd.read_csv('radar_data.csv')\n",
    "Fused_data = pd.DataFrame({'RadarID': [], 'VideoID':[], 'type': [] , 'lon':[], 'lat': [], 'tstamp': []})\n",
    "radar_rows = len(Radar_data.tstamp)\n",
    "i = 0\n",
    "while i < radar_rows:\n",
    "  ID = Radar_data.id[i]\n",
    "  thing = Radar_type.loc[Radar_type['radarID'] == ID].values\n",
    "  for row in thing:\n",
    "    dfrow = pd.DataFrame({'RadarID': [ID],'VideoID':[row[2]], 'type': [row[3]] , 'lon':[Radar_data.lon[i]], 'lat': [Radar_data.lat[i]], 'tstamp': [Radar_data.tstamp[i]]})\n",
    "    Fused_data = Fused_data.append(dfrow)\n",
    "  #else:\n",
    "      #dfrow = pd.DataFrame({'RadarID': [ID], 'type': ['unidentified'] , 'lon':[Radar_data.lon[i]], 'lat': [Radar_data.lat[i]], 'tstamp': [Radar_data.tstamp[i]]})\n",
    "      #Fused_data = Fused_data.append(dfrow)\n",
    "  i = i + 1\n",
    "Fused_data.to_csv('Fused_data.csv')  \n",
    "print(Fused_data)"
   ]
  }
 ],
 "metadata": {
  "kernelspec": {
   "display_name": "Python 3",
   "language": "python",
   "name": "python3"
  },
  "language_info": {
   "codemirror_mode": {
    "name": "ipython",
    "version": 3
   },
   "file_extension": ".py",
   "mimetype": "text/x-python",
   "name": "python",
   "nbconvert_exporter": "python",
   "pygments_lexer": "ipython3",
   "version": "3.8.5"
  }
 },
 "nbformat": 4,
 "nbformat_minor": 4
}
